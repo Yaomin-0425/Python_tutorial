{
 "cells": [
  {
   "cell_type": "code",
   "execution_count": 1,
   "metadata": {},
   "outputs": [
    {
     "ename": "SyntaxError",
     "evalue": "invalid character in identifier (<ipython-input-1-fe4acb5fcfcf>, line 12)",
     "output_type": "error",
     "traceback": [
      "\u001b[1;36m  File \u001b[1;32m\"<ipython-input-1-fe4acb5fcfcf>\"\u001b[1;36m, line \u001b[1;32m12\u001b[0m\n\u001b[1;33m    x 的值为： 32.5,  y 的值为：40000...\u001b[0m\n\u001b[1;37m         ^\u001b[0m\n\u001b[1;31mSyntaxError\u001b[0m\u001b[1;31m:\u001b[0m invalid character in identifier\n"
     ]
    }
   ],
   "source": [
    ">>> s = 'Hello, Runoob' #输出格式美化\n",
    ">>> str(s)\n",
    "'Hello, Runoob'\n",
    ">>> repr(s)\n",
    "\"'Hello, Runoob'\"\n",
    ">>> str(1/7)\n",
    "'0.14285714285714285'\n",
    ">>> x = 10 * 3.25\n",
    ">>> y = 200 * 200\n",
    ">>> s = 'x 的值为： ' + repr(x) + ',  y 的值为：' + repr(y) + '...'\n",
    ">>> print(s)\n",
    "x 的值为： 32.5,  y 的值为：40000...\n",
    ">>> #  repr() 函数可以转义字符串中的特殊字符\n",
    "... hello = 'hello, runoob\\n'\n",
    ">>> hellos = repr(hello)\n",
    ">>> print(hellos)\n",
    "'hello, runoob\\n'\n",
    ">>> # repr() 的参数可以是 Python 的任何对象\n",
    "... repr((x, y, ('Google', 'Runoob')))\n",
    "\"(32.5, 40000, ('Google', 'Runoob'))\""
   ]
  },
  {
   "cell_type": "code",
   "execution_count": 2,
   "metadata": {},
   "outputs": [
    {
     "data": {
      "text/plain": [
       "'3.14159265359'"
      ]
     },
     "execution_count": 2,
     "metadata": {},
     "output_type": "execute_result"
    }
   ],
   "source": [
    ">>> '12'.zfill(5)  #zfill()在字符左边填充0\n",
    "'00012'\n",
    ">>> '-3.14'.zfill(7)\n",
    "'-003.14'\n",
    ">>> '3.14159265359'.zfill(5)\n",
    "'3.14159265359'"
   ]
  },
  {
   "cell_type": "code",
   "execution_count": 6,
   "metadata": {},
   "outputs": [
    {
     "ename": "SyntaxError",
     "evalue": "invalid syntax (<ipython-input-6-a0ee956be9b6>, line 2)",
     "output_type": "error",
     "traceback": [
      "\u001b[1;36m  File \u001b[1;32m\"<ipython-input-6-a0ee956be9b6>\"\u001b[1;36m, line \u001b[1;32m2\u001b[0m\n\u001b[1;33m    Google 和 Runoob\u001b[0m\n\u001b[1;37m           ^\u001b[0m\n\u001b[1;31mSyntaxError\u001b[0m\u001b[1;31m:\u001b[0m invalid syntax\n"
     ]
    }
   ],
   "source": [
    ">>> print('{0} 和 {1}'.format('Google', 'Runoob'))  #str.format()使用\n",
    "Google 和 Runoob  \n",
    ">>> print('{1} 和 {0}'.format('Google', 'Runoob'))  #格式化字段被format()替换"
   ]
  },
  {
   "cell_type": "code",
   "execution_count": 7,
   "metadata": {},
   "outputs": [
    {
     "ename": "SyntaxError",
     "evalue": "invalid syntax (<ipython-input-7-3c0f51b5fc4a>, line 2)",
     "output_type": "error",
     "traceback": [
      "\u001b[1;36m  File \u001b[1;32m\"<ipython-input-7-3c0f51b5fc4a>\"\u001b[1;36m, line \u001b[1;32m2\u001b[0m\n\u001b[1;33m    站点列表 Google, Runoob, 和 Taobao。\u001b[0m\n\u001b[1;37m              ^\u001b[0m\n\u001b[1;31mSyntaxError\u001b[0m\u001b[1;31m:\u001b[0m invalid syntax\n"
     ]
    }
   ],
   "source": [
    ">>> print('站点列表 {0}, {1}, 和 {other}。'.format('Google', 'Runoob', other='Taobao')) #format关键字参数  他们的值会指向其关键字参数\n",
    "站点列表 Google, Runoob, 和 Taobao。"
   ]
  },
  {
   "cell_type": "code",
   "execution_count": 8,
   "metadata": {},
   "outputs": [
    {
     "ename": "SyntaxError",
     "evalue": "invalid syntax (<ipython-input-8-75baab06387e>, line 3)",
     "output_type": "error",
     "traceback": [
      "\u001b[1;36m  File \u001b[1;32m\"<ipython-input-8-75baab06387e>\"\u001b[1;36m, line \u001b[1;32m3\u001b[0m\n\u001b[1;33m    常量 PI 的值近似为： 3.141592653589793。\u001b[0m\n\u001b[1;37m        ^\u001b[0m\n\u001b[1;31mSyntaxError\u001b[0m\u001b[1;31m:\u001b[0m invalid syntax\n"
     ]
    }
   ],
   "source": [
    ">>> import math\n",
    ">>> print('常量 PI 的值近似为： {}。'.format(math.pi))\n",
    "常量 PI 的值近似为： 3.141592653589793。\n",
    ">>> print('常量 PI 的值近似为： {!r}。'.format(math.pi)) #格式化前进行转化\n",
    "常量 PI 的值近似为： 3.141592653589793。"
   ]
  },
  {
   "cell_type": "code",
   "execution_count": 9,
   "metadata": {},
   "outputs": [
    {
     "name": "stdout",
     "output_type": "stream",
     "text": [
      "Runoob: 2; Google: 1; Taobao: 3\n"
     ]
    }
   ],
   "source": [
    ">>> table = {'Google': 1, 'Runoob': 2, 'Taobao': 3}  #保证该域宽度\n",
    ">>> print('Runoob: {0[Runoob]:d}; Google: {0[Google]:d}; Taobao: {0[Taobao]:d}'.format(table))  #访问键值\n",
    "Runoob: 2; Google: 1; Taobao: 3 "
   ]
  },
  {
   "cell_type": "code",
   "execution_count": 10,
   "metadata": {},
   "outputs": [
    {
     "ename": "SyntaxError",
     "evalue": "invalid syntax (<ipython-input-10-2fb67ce6934e>, line 3)",
     "output_type": "error",
     "traceback": [
      "\u001b[1;36m  File \u001b[1;32m\"<ipython-input-10-2fb67ce6934e>\"\u001b[1;36m, line \u001b[1;32m3\u001b[0m\n\u001b[1;33m    常量 PI 的值近似为：3.142。\u001b[0m\n\u001b[1;37m        ^\u001b[0m\n\u001b[1;31mSyntaxError\u001b[0m\u001b[1;31m:\u001b[0m invalid syntax\n"
     ]
    }
   ],
   "source": [
    ">>> import math\n",
    ">>> print('常量 PI 的值近似为：%5.3f。' % math.pi)   #字符串格式化\n",
    "常量 PI 的值近似为：3.142。"
   ]
  },
  {
   "cell_type": "code",
   "execution_count": null,
   "metadata": {},
   "outputs": [],
   "source": [
    "#!/usr/bin/python3\n",
    "\n",
    "str = input(\"请输入：\");   #输入\n",
    "print (\"你输入的内容是: \", str)"
   ]
  },
  {
   "cell_type": "code",
   "execution_count": null,
   "metadata": {},
   "outputs": [],
   "source": []
  }
 ],
 "metadata": {
  "kernelspec": {
   "display_name": "Python 3",
   "language": "python",
   "name": "python3"
  },
  "language_info": {
   "codemirror_mode": {
    "name": "ipython",
    "version": 3
   },
   "file_extension": ".py",
   "mimetype": "text/x-python",
   "name": "python",
   "nbconvert_exporter": "python",
   "pygments_lexer": "ipython3",
   "version": "3.7.3"
  }
 },
 "nbformat": 4,
 "nbformat_minor": 2
}
