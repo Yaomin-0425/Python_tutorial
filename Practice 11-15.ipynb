{
 "cells": [
  {
   "cell_type": "code",
   "execution_count": 1,
   "metadata": {},
   "outputs": [
    {
     "name": "stdout",
     "output_type": "stream",
     "text": [
      "list1[0]:  Google\n",
      "list2[1:5]:  [2, 3, 4, 5]\n"
     ]
    }
   ],
   "source": [
    "#python3列表\n",
    "#11\n",
    "#访问列表中的值\n",
    "list1 = ['Google', 'Runoob', 1997, 2000];\n",
    "list2 = [1, 2, 3, 4, 5, 6, 7 ];\n",
    " \n",
    "print (\"list1[0]: \", list1[0])\n",
    "print (\"list2[1:5]: \", list2[1:5])\n"
   ]
  },
  {
   "cell_type": "code",
   "execution_count": 2,
   "metadata": {},
   "outputs": [
    {
     "name": "stdout",
     "output_type": "stream",
     "text": [
      "原始列表 :  ['Google', 'Runoob', 1997, 2000]\n",
      "删除第三个元素 :  ['Google', 'Runoob', 2000]\n"
     ]
    }
   ],
   "source": [
    "#删除列表元素\n",
    "list = ['Google', 'Runoob', 1997, 2000]\n",
    " \n",
    "print (\"原始列表 : \", list)\n",
    "del list[2]\n",
    "print (\"删除第三个元素 : \", list)\n"
   ]
  },
  {
   "cell_type": "code",
   "execution_count": 3,
   "metadata": {},
   "outputs": [
    {
     "name": "stdout",
     "output_type": "stream",
     "text": [
      "第三个元素为 :  1997\n",
      "更新后的第三个元素为 :  2001\n"
     ]
    }
   ],
   "source": [
    "#更新列表\n",
    "list = ['Google', 'Runoob', 1997, 2000]\n",
    " \n",
    "print (\"第三个元素为 : \", list[2])\n",
    "list[2] = 2001\n",
    "print (\"更新后的第三个元素为 : \", list[2])\n"
   ]
  },
  {
   "cell_type": "code",
   "execution_count": 4,
   "metadata": {},
   "outputs": [
    {
     "name": "stdout",
     "output_type": "stream",
     "text": [
      "tup1[0]:  Google\n",
      "tup2[1:5]:  (2, 3, 4, 5)\n"
     ]
    }
   ],
   "source": [
    "#python3元组\n",
    "#12\n",
    "#访问元组\n",
    "tup1 = ('Google', 'Runoob', 1997, 2000)\n",
    "tup2 = (1, 2, 3, 4, 5, 6, 7 )\n",
    " \n",
    "print (\"tup1[0]: \", tup1[0])\n",
    "print (\"tup2[1:5]: \", tup2[1:5])\n"
   ]
  },
  {
   "cell_type": "code",
   "execution_count": 5,
   "metadata": {},
   "outputs": [],
   "source": [
    "#修改元组\n",
    "tup1 = (12, 34.56);\n",
    "tup2 = ('abc', 'xyz')\n",
    " \n",
    "# 以下修改元组元素操作是非法的。\n",
    "# tup1[0] = 100\n",
    " "
   ]
  },
  {
   "cell_type": "code",
   "execution_count": 6,
   "metadata": {},
   "outputs": [
    {
     "name": "stdout",
     "output_type": "stream",
     "text": [
      "(12, 34.56, 'abc', 'xyz')\n"
     ]
    }
   ],
   "source": [
    "# 创建一个新的元组\n",
    "tup3 = tup1 + tup2;\n",
    "print (tup3)\n"
   ]
  },
  {
   "cell_type": "code",
   "execution_count": 7,
   "metadata": {},
   "outputs": [
    {
     "name": "stdout",
     "output_type": "stream",
     "text": [
      "('Google', 'Runoob', 1997, 2000)\n",
      "删除后的元组 tup : \n"
     ]
    },
    {
     "ename": "NameError",
     "evalue": "name 'tup' is not defined",
     "output_type": "error",
     "traceback": [
      "\u001b[1;31m---------------------------------------------------------------------------\u001b[0m",
      "\u001b[1;31mNameError\u001b[0m                                 Traceback (most recent call last)",
      "\u001b[1;32m<ipython-input-7-2cb5f12db778>\u001b[0m in \u001b[0;36m<module>\u001b[1;34m\u001b[0m\n\u001b[0;32m      5\u001b[0m \u001b[1;32mdel\u001b[0m \u001b[0mtup\u001b[0m\u001b[1;33m;\u001b[0m\u001b[1;33m\u001b[0m\u001b[1;33m\u001b[0m\u001b[0m\n\u001b[0;32m      6\u001b[0m \u001b[0mprint\u001b[0m \u001b[1;33m(\u001b[0m\u001b[1;34m\"删除后的元组 tup : \"\u001b[0m\u001b[1;33m)\u001b[0m\u001b[1;33m\u001b[0m\u001b[1;33m\u001b[0m\u001b[0m\n\u001b[1;32m----> 7\u001b[1;33m \u001b[0mprint\u001b[0m \u001b[1;33m(\u001b[0m\u001b[0mtup\u001b[0m\u001b[1;33m)\u001b[0m\u001b[1;33m\u001b[0m\u001b[1;33m\u001b[0m\u001b[0m\n\u001b[0m",
      "\u001b[1;31mNameError\u001b[0m: name 'tup' is not defined"
     ]
    }
   ],
   "source": [
    "#删除元组\n",
    "tup = ('Google', 'Runoob', 1997, 2000)\n",
    " \n",
    "print (tup)\n",
    "del tup;\n",
    "print (\"删除后的元组 tup : \")\n",
    "print (tup)\n"
   ]
  },
  {
   "cell_type": "code",
   "execution_count": 8,
   "metadata": {},
   "outputs": [
    {
     "name": "stdout",
     "output_type": "stream",
     "text": [
      "dict['Name']:  Runoob\n",
      "dict['Age']:  7\n"
     ]
    }
   ],
   "source": [
    "\n",
    "#python3字典\n",
    "#13\n",
    "#访问字典里的值\n",
    "dict = {'Name': 'Runoob', 'Age': 7, 'Class': 'First'}\n",
    " \n",
    "print (\"dict['Name']: \", dict['Name'])\n",
    "print (\"dict['Age']: \", dict['Age'])"
   ]
  },
  {
   "cell_type": "code",
   "execution_count": 9,
   "metadata": {},
   "outputs": [
    {
     "name": "stdout",
     "output_type": "stream",
     "text": [
      "dict['Age']:  8\n",
      "dict['School']:  菜鸟教程\n"
     ]
    }
   ],
   "source": [
    "#修改字典\n",
    "dict = {'Name': 'Runoob', 'Age': 7, 'Class': 'First'}\n",
    " \n",
    "dict['Age'] = 8               # 更新 Age\n",
    "dict['School'] = \"菜鸟教程\"  # 添加信息\n",
    " \n",
    " \n",
    "print (\"dict['Age']: \", dict['Age'])\n",
    "print (\"dict['School']: \", dict['School'])"
   ]
  },
  {
   "cell_type": "code",
   "execution_count": 10,
   "metadata": {},
   "outputs": [
    {
     "ename": "TypeError",
     "evalue": "'type' object is not subscriptable",
     "output_type": "error",
     "traceback": [
      "\u001b[1;31m---------------------------------------------------------------------------\u001b[0m",
      "\u001b[1;31mTypeError\u001b[0m                                 Traceback (most recent call last)",
      "\u001b[1;32m<ipython-input-10-20580c09bedc>\u001b[0m in \u001b[0;36m<module>\u001b[1;34m\u001b[0m\n\u001b[0;32m      7\u001b[0m \u001b[1;32mdel\u001b[0m \u001b[0mdict\u001b[0m         \u001b[1;31m# 删除字典\u001b[0m\u001b[1;33m\u001b[0m\u001b[1;33m\u001b[0m\u001b[0m\n\u001b[0;32m      8\u001b[0m \u001b[1;33m\u001b[0m\u001b[0m\n\u001b[1;32m----> 9\u001b[1;33m \u001b[0mprint\u001b[0m \u001b[1;33m(\u001b[0m\u001b[1;34m\"dict['Age']: \"\u001b[0m\u001b[1;33m,\u001b[0m \u001b[0mdict\u001b[0m\u001b[1;33m[\u001b[0m\u001b[1;34m'Age'\u001b[0m\u001b[1;33m]\u001b[0m\u001b[1;33m)\u001b[0m\u001b[1;33m\u001b[0m\u001b[1;33m\u001b[0m\u001b[0m\n\u001b[0m\u001b[0;32m     10\u001b[0m \u001b[0mprint\u001b[0m \u001b[1;33m(\u001b[0m\u001b[1;34m\"dict['School']: \"\u001b[0m\u001b[1;33m,\u001b[0m \u001b[0mdict\u001b[0m\u001b[1;33m[\u001b[0m\u001b[1;34m'School'\u001b[0m\u001b[1;33m]\u001b[0m\u001b[1;33m)\u001b[0m\u001b[1;33m\u001b[0m\u001b[1;33m\u001b[0m\u001b[0m\n",
      "\u001b[1;31mTypeError\u001b[0m: 'type' object is not subscriptable"
     ]
    }
   ],
   "source": [
    "\n",
    "#python3字典\n",
    "#删除字典元素\n",
    "dict = {'Name': 'Runoob', 'Age': 7, 'Class': 'First'}\n",
    " \n",
    "del dict['Name'] # 删除键 'Name'\n",
    "dict.clear()     # 清空字典\n",
    "del dict         # 删除字典\n",
    " \n",
    "print (\"dict['Age']: \", dict['Age'])\n",
    "print (\"dict['School']: \", dict['School'])"
   ]
  },
  {
   "cell_type": "code",
   "execution_count": 11,
   "metadata": {},
   "outputs": [
    {
     "name": "stdout",
     "output_type": "stream",
     "text": [
      "dict['Name']:  小菜鸟\n"
     ]
    },
    {
     "ename": "TypeError",
     "evalue": "unhashable type: 'list'",
     "output_type": "error",
     "traceback": [
      "\u001b[1;31m---------------------------------------------------------------------------\u001b[0m",
      "\u001b[1;31mTypeError\u001b[0m                                 Traceback (most recent call last)",
      "\u001b[1;32m<ipython-input-11-02cf9855fe3a>\u001b[0m in \u001b[0;36m<module>\u001b[1;34m\u001b[0m\n\u001b[0;32m      3\u001b[0m \u001b[0mprint\u001b[0m \u001b[1;33m(\u001b[0m\u001b[1;34m\"dict['Name']: \"\u001b[0m\u001b[1;33m,\u001b[0m \u001b[0mdict\u001b[0m\u001b[1;33m[\u001b[0m\u001b[1;34m'Name'\u001b[0m\u001b[1;33m]\u001b[0m\u001b[1;33m)\u001b[0m\u001b[1;33m\u001b[0m\u001b[1;33m\u001b[0m\u001b[0m\n\u001b[0;32m      4\u001b[0m \u001b[1;33m\u001b[0m\u001b[0m\n\u001b[1;32m----> 5\u001b[1;33m \u001b[0mdict\u001b[0m \u001b[1;33m=\u001b[0m \u001b[1;33m{\u001b[0m\u001b[1;33m[\u001b[0m\u001b[1;34m'Name'\u001b[0m\u001b[1;33m]\u001b[0m\u001b[1;33m:\u001b[0m \u001b[1;34m'Runoob'\u001b[0m\u001b[1;33m,\u001b[0m \u001b[1;34m'Age'\u001b[0m\u001b[1;33m:\u001b[0m \u001b[1;36m7\u001b[0m\u001b[1;33m}\u001b[0m\u001b[1;33m\u001b[0m\u001b[1;33m\u001b[0m\u001b[0m\n\u001b[0m\u001b[0;32m      6\u001b[0m \u001b[0mprint\u001b[0m \u001b[1;33m(\u001b[0m\u001b[1;34m\"dict['Name']: \"\u001b[0m\u001b[1;33m,\u001b[0m \u001b[0mdict\u001b[0m\u001b[1;33m[\u001b[0m\u001b[1;34m'Name'\u001b[0m\u001b[1;33m]\u001b[0m\u001b[1;33m)\u001b[0m\u001b[1;33m\u001b[0m\u001b[1;33m\u001b[0m\u001b[0m\n",
      "\u001b[1;31mTypeError\u001b[0m: unhashable type: 'list'"
     ]
    }
   ],
   "source": [
    "#字典键的特性\n",
    "dict = {'Name': 'Runoob', 'Age': 7, 'Name': '小菜鸟'}\n",
    "print (\"dict['Name']: \", dict['Name'])\n",
    "\n"
   ]
  },
  {
   "cell_type": "code",
   "execution_count": 12,
   "metadata": {},
   "outputs": [
    {
     "ename": "TypeError",
     "evalue": "unhashable type: 'list'",
     "output_type": "error",
     "traceback": [
      "\u001b[1;31m---------------------------------------------------------------------------\u001b[0m",
      "\u001b[1;31mTypeError\u001b[0m                                 Traceback (most recent call last)",
      "\u001b[1;32m<ipython-input-12-3b6201006e16>\u001b[0m in \u001b[0;36m<module>\u001b[1;34m\u001b[0m\n\u001b[1;32m----> 1\u001b[1;33m \u001b[0mdict\u001b[0m \u001b[1;33m=\u001b[0m \u001b[1;33m{\u001b[0m\u001b[1;33m[\u001b[0m\u001b[1;34m'Name'\u001b[0m\u001b[1;33m]\u001b[0m\u001b[1;33m:\u001b[0m \u001b[1;34m'Runoob'\u001b[0m\u001b[1;33m,\u001b[0m \u001b[1;34m'Age'\u001b[0m\u001b[1;33m:\u001b[0m \u001b[1;36m7\u001b[0m\u001b[1;33m}\u001b[0m\u001b[1;33m\u001b[0m\u001b[1;33m\u001b[0m\u001b[0m\n\u001b[0m\u001b[0;32m      2\u001b[0m \u001b[0mprint\u001b[0m \u001b[1;33m(\u001b[0m\u001b[1;34m\"dict['Name']: \"\u001b[0m\u001b[1;33m,\u001b[0m \u001b[0mdict\u001b[0m\u001b[1;33m[\u001b[0m\u001b[1;34m'Name'\u001b[0m\u001b[1;33m]\u001b[0m\u001b[1;33m)\u001b[0m\u001b[1;33m\u001b[0m\u001b[1;33m\u001b[0m\u001b[0m\n",
      "\u001b[1;31mTypeError\u001b[0m: unhashable type: 'list'"
     ]
    }
   ],
   "source": [
    "\n",
    "dict = {['Name']: 'Runoob', 'Age': 7}\n",
    "print (\"dict['Name']: \", dict['Name'])"
   ]
  },
  {
   "cell_type": "code",
   "execution_count": 16,
   "metadata": {},
   "outputs": [
    {
     "ename": "SyntaxError",
     "evalue": "invalid syntax (<ipython-input-16-84271661012a>, line 4)",
     "output_type": "error",
     "traceback": [
      "\u001b[1;36m  File \u001b[1;32m\"<ipython-input-16-84271661012a>\"\u001b[1;36m, line \u001b[1;32m4\u001b[0m\n\u001b[1;33m    >>>basket = {'apple', 'orange', 'apple', 'pear', 'orange', 'banana'}\u001b[0m\n\u001b[1;37m     ^\u001b[0m\n\u001b[1;31mSyntaxError\u001b[0m\u001b[1;31m:\u001b[0m invalid syntax\n"
     ]
    }
   ],
   "source": [
    "\n",
    "\n",
    "#Python3集合\n",
    "#14\n",
    "#001\n",
    ">>>basket = {'apple', 'orange', 'apple', 'pear', 'orange', 'banana'}\n",
    ">>> print(basket)                      # 这里演示的是去重功能\n",
    "{'orange', 'banana', 'pear', 'apple'}\n",
    ">>> 'orange' in basket                 # 快速判断元素是否在集合内\n",
    "True\n",
    ">>> 'crabgrass' in basket\n",
    "False\n",
    " \n",
    ">>> # 下面展示两个集合间的运算.\n",
    "...\n",
    ">>> a = set('abracadabra')\n",
    ">>> b = set('alacazam')\n",
    ">>> a                                  \n",
    "{'a', 'r', 'b', 'c', 'd'}\n",
    ">>> a - b                              # 集合a中包含而集合b中不包含的元素\n",
    "{'r', 'd', 'b'}\n",
    ">>> a | b                              # 集合a或b中包含的所有元素\n",
    "{'a', 'c', 'r', 'd', 'b', 'm', 'z', 'l'}\n",
    ">>> a & b                              # 集合a和b中都包含了的元素\n",
    "{'a', 'c'}\n",
    ">>> a ^ b                              # 不同时包含于a和b的元素\n",
    "{'r', 'd', 'b', 'm', 'z', 'l'}"
   ]
  },
  {
   "cell_type": "code",
   "execution_count": 20,
   "metadata": {},
   "outputs": [
    {
     "ename": "SyntaxError",
     "evalue": "invalid syntax (<ipython-input-20-c7294f1a1f9a>, line 2)",
     "output_type": "error",
     "traceback": [
      "\u001b[1;36m  File \u001b[1;32m\"<ipython-input-20-c7294f1a1f9a>\"\u001b[1;36m, line \u001b[1;32m2\u001b[0m\n\u001b[1;33m    >>>a = {x for x in 'abracadabra' if x not in 'abc'}\u001b[0m\n\u001b[1;37m     ^\u001b[0m\n\u001b[1;31mSyntaxError\u001b[0m\u001b[1;31m:\u001b[0m invalid syntax\n"
     ]
    }
   ],
   "source": [
    "#002\n",
    ">>>a = {x for x in 'abracadabra' if x not in 'abc'}\n",
    ">>> a\n",
    "{'r', 'd'}"
   ]
  },
  {
   "cell_type": "code",
   "execution_count": 18,
   "metadata": {},
   "outputs": [
    {
     "ename": "SyntaxError",
     "evalue": "invalid syntax (<ipython-input-18-d3dff510deb3>, line 2)",
     "output_type": "error",
     "traceback": [
      "\u001b[1;36m  File \u001b[1;32m\"<ipython-input-18-d3dff510deb3>\"\u001b[1;36m, line \u001b[1;32m2\u001b[0m\n\u001b[1;33m    >>>thisset = set((\"Google\", \"Runoob\", \"Taobao\"))\u001b[0m\n\u001b[1;37m     ^\u001b[0m\n\u001b[1;31mSyntaxError\u001b[0m\u001b[1;31m:\u001b[0m invalid syntax\n"
     ]
    }
   ],
   "source": [
    "#003 添加元素\n",
    ">>>thisset = set((\"Google\", \"Runoob\", \"Taobao\"))\n",
    ">>> thisset.add(\"Facebook\")\n",
    ">>> print(thisset)\n",
    "{'Taobao', 'Facebook', 'Google', 'Runoob'}"
   ]
  },
  {
   "cell_type": "code",
   "execution_count": 21,
   "metadata": {},
   "outputs": [
    {
     "ename": "SyntaxError",
     "evalue": "invalid syntax (<ipython-input-21-1ace57da4063>, line 1)",
     "output_type": "error",
     "traceback": [
      "\u001b[1;36m  File \u001b[1;32m\"<ipython-input-21-1ace57da4063>\"\u001b[1;36m, line \u001b[1;32m1\u001b[0m\n\u001b[1;33m    >>>thisset = set((\"Google\", \"Runoob\", \"Taobao\"))\u001b[0m\n\u001b[1;37m     ^\u001b[0m\n\u001b[1;31mSyntaxError\u001b[0m\u001b[1;31m:\u001b[0m invalid syntax\n"
     ]
    }
   ],
   "source": [
    ">>>thisset = set((\"Google\", \"Runoob\", \"Taobao\"))\n",
    ">>> thisset.update({1,3})\n",
    ">>> print(thisset)\n",
    "{1, 3, 'Google', 'Taobao', 'Runoob'}\n",
    ">>> thisset.update([1,4],[5,6])  \n",
    ">>> print(thisset)\n",
    "{1, 3, 4, 5, 6, 'Google', 'Taobao', 'Runoob'}\n",
    ">>>"
   ]
  },
  {
   "cell_type": "code",
   "execution_count": 22,
   "metadata": {},
   "outputs": [
    {
     "ename": "SyntaxError",
     "evalue": "invalid syntax (<ipython-input-22-9ad04e5204d0>, line 2)",
     "output_type": "error",
     "traceback": [
      "\u001b[1;36m  File \u001b[1;32m\"<ipython-input-22-9ad04e5204d0>\"\u001b[1;36m, line \u001b[1;32m2\u001b[0m\n\u001b[1;33m    >>>thisset = set((\"Google\", \"Runoob\", \"Taobao\"))\u001b[0m\n\u001b[1;37m     ^\u001b[0m\n\u001b[1;31mSyntaxError\u001b[0m\u001b[1;31m:\u001b[0m invalid syntax\n"
     ]
    }
   ],
   "source": [
    "#004 移除元素\n",
    ">>>thisset = set((\"Google\", \"Runoob\", \"Taobao\"))\n",
    ">>> thisset.remove(\"Taobao\")\n",
    ">>> print(thisset)\n",
    "{'Google', 'Runoob'}\n",
    ">>> thisset.remove(\"Facebook\")   # 不存在会发生错误\n",
    "Traceback (most recent call last):\n",
    "  File \"<stdin>\", line 1, in <module>\n",
    "KeyError: 'Facebook'\n",
    ">>>"
   ]
  },
  {
   "cell_type": "code",
   "execution_count": 23,
   "metadata": {},
   "outputs": [
    {
     "ename": "SyntaxError",
     "evalue": "invalid syntax (<ipython-input-23-b98f73d04f05>, line 2)",
     "output_type": "error",
     "traceback": [
      "\u001b[1;36m  File \u001b[1;32m\"<ipython-input-23-b98f73d04f05>\"\u001b[1;36m, line \u001b[1;32m2\u001b[0m\n\u001b[1;33m    >>>thisset = set((\"Google\", \"Runoob\", \"Taobao\"))\u001b[0m\n\u001b[1;37m     ^\u001b[0m\n\u001b[1;31mSyntaxError\u001b[0m\u001b[1;31m:\u001b[0m invalid syntax\n"
     ]
    }
   ],
   "source": [
    "#移除元素\n",
    ">>>thisset = set((\"Google\", \"Runoob\", \"Taobao\"))\n",
    ">>> thisset.discard(\"Facebook\")  # 不存在不会发生错误\n",
    ">>> print(thisset)\n",
    "{'Taobao', 'Google', 'Runoob'}"
   ]
  },
  {
   "cell_type": "code",
   "execution_count": 24,
   "metadata": {},
   "outputs": [
    {
     "name": "stdout",
     "output_type": "stream",
     "text": [
      "Taobao\n"
     ]
    }
   ],
   "source": [
    "\n",
    "#脚本模式\n",
    "thisset = set((\"Google\", \"Runoob\", \"Taobao\", \"Facebook\"))\n",
    "x = thisset.pop()\n",
    " \n",
    "print(x)"
   ]
  },
  {
   "cell_type": "code",
   "execution_count": 25,
   "metadata": {},
   "outputs": [
    {
     "ename": "SyntaxError",
     "evalue": "invalid syntax (<ipython-input-25-10e8722e2a3e>, line 2)",
     "output_type": "error",
     "traceback": [
      "\u001b[1;36m  File \u001b[1;32m\"<ipython-input-25-10e8722e2a3e>\"\u001b[1;36m, line \u001b[1;32m2\u001b[0m\n\u001b[1;33m    >>>thisset = set((\"Google\", \"Runoob\", \"Taobao\", \"Facebook\"))\u001b[0m\n\u001b[1;37m     ^\u001b[0m\n\u001b[1;31mSyntaxError\u001b[0m\u001b[1;31m:\u001b[0m invalid syntax\n"
     ]
    }
   ],
   "source": [
    "#\n",
    ">>>thisset = set((\"Google\", \"Runoob\", \"Taobao\", \"Facebook\"))\n",
    ">>> thisset.pop()\n",
    "'Facebook'\n",
    ">>> print(thisset)\n",
    "{'Google', 'Taobao', 'Runoob'}\n",
    ">>>"
   ]
  },
  {
   "cell_type": "code",
   "execution_count": 26,
   "metadata": {},
   "outputs": [
    {
     "ename": "SyntaxError",
     "evalue": "invalid syntax (<ipython-input-26-76782bf85402>, line 2)",
     "output_type": "error",
     "traceback": [
      "\u001b[1;36m  File \u001b[1;32m\"<ipython-input-26-76782bf85402>\"\u001b[1;36m, line \u001b[1;32m2\u001b[0m\n\u001b[1;33m    >>>thisset = set((\"Google\", \"Runoob\", \"Taobao\"))\u001b[0m\n\u001b[1;37m     ^\u001b[0m\n\u001b[1;31mSyntaxError\u001b[0m\u001b[1;31m:\u001b[0m invalid syntax\n"
     ]
    }
   ],
   "source": [
    "\n",
    "#005 计算集合元素个数\n",
    ">>>thisset = set((\"Google\", \"Runoob\", \"Taobao\"))\n",
    ">>> len(thisset)"
   ]
  },
  {
   "cell_type": "code",
   "execution_count": 27,
   "metadata": {},
   "outputs": [
    {
     "ename": "SyntaxError",
     "evalue": "invalid syntax (<ipython-input-27-6d013a45e7b1>, line 2)",
     "output_type": "error",
     "traceback": [
      "\u001b[1;36m  File \u001b[1;32m\"<ipython-input-27-6d013a45e7b1>\"\u001b[1;36m, line \u001b[1;32m2\u001b[0m\n\u001b[1;33m    >>>thisset = set((\"Google\", \"Runoob\", \"Taobao\"))\u001b[0m\n\u001b[1;37m     ^\u001b[0m\n\u001b[1;31mSyntaxError\u001b[0m\u001b[1;31m:\u001b[0m invalid syntax\n"
     ]
    }
   ],
   "source": [
    "\n",
    "\n",
    "#006 清空集合\n",
    ">>>thisset = set((\"Google\", \"Runoob\", \"Taobao\"))\n",
    ">>> thisset.clear()\n",
    ">>> print(thisset)\n",
    "set()"
   ]
  },
  {
   "cell_type": "code",
   "execution_count": 28,
   "metadata": {},
   "outputs": [
    {
     "ename": "SyntaxError",
     "evalue": "invalid syntax (<ipython-input-28-4c393ece2474>, line 2)",
     "output_type": "error",
     "traceback": [
      "\u001b[1;36m  File \u001b[1;32m\"<ipython-input-28-4c393ece2474>\"\u001b[1;36m, line \u001b[1;32m2\u001b[0m\n\u001b[1;33m    >>>thisset = set((\"Google\", \"Runoob\", \"Taobao\"))\u001b[0m\n\u001b[1;37m     ^\u001b[0m\n\u001b[1;31mSyntaxError\u001b[0m\u001b[1;31m:\u001b[0m invalid syntax\n"
     ]
    }
   ],
   "source": [
    "\n",
    "#007 判断元素是否在集合中存在\n",
    ">>>thisset = set((\"Google\", \"Runoob\", \"Taobao\"))\n",
    ">>> \"Runoob\" in thisset\n",
    "True\n",
    ">>> \"Facebook\" in thisset\n",
    "False\n",
    ">>>"
   ]
  },
  {
   "cell_type": "code",
   "execution_count": 29,
   "metadata": {},
   "outputs": [
    {
     "name": "stdout",
     "output_type": "stream",
     "text": [
      "1\n",
      "1\n",
      "2\n",
      "3\n",
      "5\n",
      "8\n"
     ]
    }
   ],
   "source": [
    "#Python3 \n",
    "#15\n",
    "# Fibonacci series: 斐波纳契数列\n",
    "# 两个元素的总和确定了下一个数\n",
    "a, b = 0, 1\n",
    "while b < 10:\n",
    "    print(b)\n",
    "    a, b = b, a+b"
   ]
  },
  {
   "cell_type": "code",
   "execution_count": 30,
   "metadata": {},
   "outputs": [
    {
     "name": "stdout",
     "output_type": "stream",
     "text": [
      "1,1,2,3,5,8,13,21,34,55,89,144,233,377,610,987,"
     ]
    }
   ],
   "source": [
    "a, b = 0, 1\n",
    "while b < 1000:\n",
    "    print(b, end=',')\n",
    "    a, b = b, a+b"
   ]
  },
  {
   "cell_type": "code",
   "execution_count": null,
   "metadata": {},
   "outputs": [],
   "source": []
  }
 ],
 "metadata": {
  "kernelspec": {
   "display_name": "Python 3",
   "language": "python",
   "name": "python3"
  },
  "language_info": {
   "codemirror_mode": {
    "name": "ipython",
    "version": 3
   },
   "file_extension": ".py",
   "mimetype": "text/x-python",
   "name": "python",
   "nbconvert_exporter": "python",
   "pygments_lexer": "ipython3",
   "version": "3.7.3"
  }
 },
 "nbformat": 4,
 "nbformat_minor": 2
}
